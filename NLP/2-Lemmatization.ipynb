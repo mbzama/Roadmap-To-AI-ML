{
 "cells": [
  {
   "cell_type": "code",
   "execution_count": 12,
   "id": "5aadbca0",
   "metadata": {},
   "outputs": [
    {
     "name": "stdout",
     "output_type": "stream",
     "text": [
      "Words before stemming:\n",
      "history\n",
      "historical\n",
      "historically\n",
      "going\n",
      "goes\n",
      "went\n",
      "gone\n",
      "sit\n",
      "sits\n",
      "sat\n",
      "sitting\n",
      "write\n",
      "writes\n",
      "wrote\n",
      "writing\n",
      "written\n",
      "running\n",
      "run\n",
      "runs\n",
      "ran\n",
      "easily\n",
      "fair\n",
      "fairness\n",
      "fairly\n",
      "happily\n",
      "happier\n",
      "happiest\n",
      "happiness\n"
     ]
    }
   ],
   "source": [
    "#import nltk as nltk\n",
    "#nltk.download('wordnet') \n",
    "\n",
    "## Lemmitization example\n",
    "words = [\n",
    "    \"history\",\n",
    "    \"historical\",   \n",
    "    \"historically\",\n",
    "    \"going\",\n",
    "    \"goes\",\n",
    "    \"went\",\n",
    "    \"gone\",\n",
    "    \"sit\",\n",
    "    \"sits\",\n",
    "    \"sat\",\n",
    "    \"sitting\",\n",
    "    \"write\",\n",
    "    \"writes\",\n",
    "    \"wrote\",\n",
    "    \"writing\",\n",
    "    \"written\",\n",
    "    \"running\",\n",
    "    \"run\",\n",
    "    \"runs\", \n",
    "    \"ran\",\n",
    "    \"easily\",\n",
    "    \"fair\",\n",
    "    \"fairness\",\n",
    "    \"fairly\",\n",
    "    \"happily\",\n",
    "    \"happier\",\n",
    "    \"happiest\",\n",
    "    \"happiness\"]\n",
    "\n",
    "print(\"Words before stemming:\")\n",
    "for word in words:\n",
    "    print(word)"
   ]
  },
  {
   "cell_type": "code",
   "execution_count": 15,
   "id": "ea8aee9d",
   "metadata": {},
   "outputs": [
    {
     "name": "stdout",
     "output_type": "stream",
     "text": [
      "history -> history\n",
      "historical -> historical\n",
      "historically -> historically\n",
      "going -> go\n",
      "goes -> go\n",
      "went -> go\n",
      "gone -> go\n",
      "sit -> sit\n",
      "sits -> sit\n",
      "sat -> sit\n",
      "sitting -> sit\n",
      "write -> write\n",
      "writes -> write\n",
      "wrote -> write\n",
      "writing -> write\n",
      "written -> write\n",
      "running -> run\n",
      "run -> run\n",
      "runs -> run\n",
      "ran -> run\n",
      "easily -> easily\n",
      "fair -> fair\n",
      "fairness -> fairness\n",
      "fairly -> fairly\n",
      "happily -> happily\n",
      "happier -> happier\n",
      "happiest -> happiest\n",
      "happiness -> happiness\n"
     ]
    }
   ],
   "source": [
    "\"\"\"\n",
    "WordNetLemmatizer is a lemmatization tool in NLTK that reduces words to their dictionary base form (lemma) using the WordNet lexical database.\n",
    "\n",
    "Key Features:\n",
    "Dictionary-based: Uses WordNet database for accurate lemmatization\n",
    "Context-aware: Considers part-of-speech (POS) tags\n",
    "Real words: Always returns valid dictionary words\n",
    "More accurate: Better than stemming for meaning preservation\n",
    "\"\"\"\n",
    "\n",
    "from nltk.stem import WordNetLemmatizer\n",
    "\n",
    "lemmatizer = WordNetLemmatizer()\n",
    "\n",
    "for word in words:\n",
    "    print(f\"{word} -> {lemmatizer.lemmatize(word, pos='v')}\")\n",
    "\n",
    "\n"
   ]
  }
 ],
 "metadata": {
  "kernelspec": {
   "display_name": "base",
   "language": "python",
   "name": "python3"
  },
  "language_info": {
   "codemirror_mode": {
    "name": "ipython",
    "version": 3
   },
   "file_extension": ".py",
   "mimetype": "text/x-python",
   "name": "python",
   "nbconvert_exporter": "python",
   "pygments_lexer": "ipython3",
   "version": "3.12.7"
  }
 },
 "nbformat": 4,
 "nbformat_minor": 5
}
