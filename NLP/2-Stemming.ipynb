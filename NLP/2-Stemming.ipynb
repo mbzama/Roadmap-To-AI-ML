{
 "cells": [
  {
   "cell_type": "code",
   "execution_count": 6,
   "id": "5bba32e2",
   "metadata": {},
   "outputs": [
    {
     "name": "stdout",
     "output_type": "stream",
     "text": [
      "Words before stemming:\n",
      "history\n",
      "historical\n",
      "historically\n",
      "sit\n",
      "sits\n",
      "sat\n",
      "sitting\n",
      "write\n",
      "writes\n",
      "wrote\n",
      "writing\n",
      "written\n",
      "running\n",
      "run\n",
      "runs\n",
      "ran\n",
      "easily\n",
      "fair\n",
      "fairness\n",
      "fairly\n",
      "happily\n",
      "happier\n",
      "happiest\n",
      "happiness\n"
     ]
    }
   ],
   "source": [
    "## Stemmer Example\n",
    "\n",
    "words = [\n",
    "    \"history\",\n",
    "    \"historical\",   \n",
    "    \"historically\",\n",
    "    \"sit\",\n",
    "    \"sits\",\n",
    "    \"sat\",\n",
    "    \"sitting\",\n",
    "    \"write\",\n",
    "    \"writes\",\n",
    "    \"wrote\",\n",
    "    \"writing\",\n",
    "    \"written\",\n",
    "    \"running\",\n",
    "    \"run\",\n",
    "    \"runs\", \n",
    "    \"ran\",\n",
    "    \"easily\",\n",
    "    \"fair\",\n",
    "    \"fairness\",\n",
    "    \"fairly\",\n",
    "    \"happily\",\n",
    "    \"happier\",\n",
    "    \"happiest\",\n",
    "    \"happiness\"]\n",
    "\n",
    "print(\"Words before stemming:\")\n",
    "for word in words:\n",
    "    print(word)"
   ]
  },
  {
   "cell_type": "code",
   "execution_count": 8,
   "id": "9b4f2558",
   "metadata": {},
   "outputs": [
    {
     "name": "stdout",
     "output_type": "stream",
     "text": [
      "history -> histori\n",
      "historical -> histor\n",
      "historically -> histor\n",
      "sit -> sit\n",
      "sits -> sit\n",
      "sat -> sat\n",
      "sitting -> sit\n",
      "write -> write\n",
      "writes -> write\n",
      "wrote -> wrote\n",
      "writing -> write\n",
      "written -> written\n",
      "running -> run\n",
      "run -> run\n",
      "runs -> run\n",
      "ran -> ran\n",
      "easily -> easili\n",
      "fair -> fair\n",
      "fairness -> fair\n",
      "fairly -> fairli\n",
      "happily -> happili\n",
      "happier -> happier\n",
      "happiest -> happiest\n",
      "happiness -> happi\n"
     ]
    }
   ],
   "source": [
    "\"\"\"\n",
    "PorterStemmer is a popular stemming algorithm in Natural Language Processing (NLP) that reduces words to their root/base form by removing suffixes.\n",
    "\n",
    "Key Features:\n",
    "Purpose: Converts words to their stem by stripping common suffixes\n",
    "Algorithm: Based on Martin Porter's 1980 stemming algorithm\n",
    "Language: Primarily designed for English\n",
    "Approach: Rule-based suffix removal\n",
    "\"\"\"\n",
    "from nltk.stem import PorterStemmer\n",
    "\n",
    "stemming = PorterStemmer()\n",
    "\n",
    "for word in words:\n",
    "    print(f\"{word} -> {stemming.stem(word)}\")\n"
   ]
  },
  {
   "cell_type": "code",
   "execution_count": 10,
   "id": "74574e32",
   "metadata": {},
   "outputs": [
    {
     "name": "stdout",
     "output_type": "stream",
     "text": [
      "RegexStemmer Results:\n",
      "history -> history\n",
      "historical -> historical\n",
      "historically -> historical\n",
      "sit -> sit\n",
      "sits -> sit\n",
      "sat -> sat\n",
      "sitting -> sitt\n",
      "write -> write\n",
      "writes -> write\n",
      "wrote -> wrote\n",
      "writing -> writ\n",
      "written -> written\n",
      "running -> runn\n",
      "run -> run\n",
      "runs -> run\n",
      "ran -> ran\n",
      "easily -> easi\n",
      "fair -> fair\n",
      "fairness -> fairne\n",
      "fairly -> fair\n",
      "happily -> happi\n",
      "happier -> happier\n",
      "happiest -> happiest\n",
      "happiness -> happine\n"
     ]
    }
   ],
   "source": [
    "\"\"\"\n",
    "RegexStemmer is a customizable stemming algorithm in NLTK that uses regular expressions to remove suffixes from words.\n",
    "\n",
    "Key Features:\n",
    "Approach: Rule-based using regular expressions\n",
    "Customizable: You define your own patterns to remove\n",
    "Simple: Basic suffix removal based on regex patterns\n",
    "Language-agnostic: Can work with any language if you provide the right patterns\n",
    "\"\"\"\n",
    "from nltk.stem import RegexpStemmer\n",
    "\n",
    "stemmer = RegexpStemmer('ing$|ly$|ed$|ies$|ied$|ies$|s$|ss$', min=4)\n",
    "\n",
    "print(\"RegexStemmer Results:\")\n",
    "for word in words:\n",
    "    stemmed = stemmer.stem(word)\n",
    "    print(f\"{word} -> {stemmed}\")\n"
   ]
  },
  {
   "cell_type": "code",
   "execution_count": 12,
   "id": "17f1dea9",
   "metadata": {},
   "outputs": [
    {
     "name": "stdout",
     "output_type": "stream",
     "text": [
      "history -> histori\n",
      "historical -> histor\n",
      "historically -> histor\n",
      "sit -> sit\n",
      "sits -> sit\n",
      "sat -> sat\n",
      "sitting -> sit\n",
      "write -> write\n",
      "writes -> write\n",
      "wrote -> wrote\n",
      "writing -> write\n",
      "written -> written\n",
      "running -> run\n",
      "run -> run\n",
      "runs -> run\n",
      "ran -> ran\n",
      "easily -> easili\n",
      "fair -> fair\n",
      "fairness -> fair\n",
      "fairly -> fair\n",
      "happily -> happili\n",
      "happier -> happier\n",
      "happiest -> happiest\n",
      "happiness -> happi\n"
     ]
    }
   ],
   "source": [
    "\"\"\"\n",
    "SnowballStemmer is an improved and more advanced stemming algorithm developed by Martin Porter as a successor to the original PorterStemmer.\n",
    "\n",
    "Key Features:\n",
    "Multi-language support: Works with 15+ languages (English, French, German, Spanish, etc.)\n",
    "Improved accuracy: Better than PorterStemmer with fewer over-stemming issues\n",
    "Consistent: More predictable results\n",
    "Framework: Part of the Snowball stemming framework\n",
    "\"\"\"\n",
    "\n",
    "from nltk.stem.snowball import SnowballStemmer\n",
    "stemmer = SnowballStemmer(\"english\")\n",
    "for word in words:\n",
    "    stemmed = stemmer.stem(word)\n",
    "    print(f\"{word} -> {stemmed}\")\n",
    "    "
   ]
  }
 ],
 "metadata": {
  "kernelspec": {
   "display_name": "base",
   "language": "python",
   "name": "python3"
  },
  "language_info": {
   "codemirror_mode": {
    "name": "ipython",
    "version": 3
   },
   "file_extension": ".py",
   "mimetype": "text/x-python",
   "name": "python",
   "nbconvert_exporter": "python",
   "pygments_lexer": "ipython3",
   "version": "3.12.7"
  }
 },
 "nbformat": 4,
 "nbformat_minor": 5
}
