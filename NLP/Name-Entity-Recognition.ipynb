{
 "cells": [
  {
   "cell_type": "code",
   "execution_count": 2,
   "id": "964b8162",
   "metadata": {},
   "outputs": [],
   "source": [
    "\"\"\"\n",
    "Named Entity Recognition (NER) is the process of identifying and classifying \n",
    "named entities in text into predefined categories like person names, organizations, \n",
    "locations, dates, etc.\n",
    "\n",
    "Key Features:\n",
    "- Information Extraction: Identifies important entities in text\n",
    "- Context-aware: Uses grammatical and contextual clues\n",
    "- Multiple categories: PERSON, ORGANIZATION, LOCATION, DATE, TIME, etc.\n",
    "- Foundation for other NLP tasks: Question answering, knowledge graphs\n",
    "\"\"\"\n",
    "\n",
    "text = \"\"\"\n",
    "Apple Inc. is an American multinational technology company headquartered in Cupertino, California.\n",
    "Tim Cook is the CEO of Apple. The company was founded by Steve Jobs, Steve Wozniak, and Ronald Wayne in April 1976.\n",
    "Apple's headquarters is located at One Apple Park Way in Cupertino, California, United States.\n",
    "In 2023, Apple reported revenue of over $394 billion. The iPhone was first released on June 29, 2007.\n",
    "Barack Obama was the 44th President of the United States from 2009 to 2017.\n",
    "Google was founded by Larry Page and Sergey Brin while they were Ph.D. students at Stanford University.\n",
    "Microsoft Corporation is located in Redmond, Washington.\n",
    "\"\"\"\n"
   ]
  },
  {
   "cell_type": "code",
   "execution_count": null,
   "id": "23ab41da",
   "metadata": {},
   "outputs": [
    {
     "name": "stdout",
     "output_type": "stream",
     "text": [
      "['Apple', 'Inc.', 'is', 'an', 'American', 'multinational', 'technology', 'company', 'headquartered', 'in', 'Cupertino', ',', 'California', '.', 'Tim', 'Cook', 'is', 'the', 'CEO', 'of', 'Apple', '.', 'The', 'company', 'was', 'founded', 'by', 'Steve', 'Jobs', ',', 'Steve', 'Wozniak', ',', 'and', 'Ronald', 'Wayne', 'in', 'April', '1976', '.', 'Apple', \"'s\", 'headquarters', 'is', 'located', 'at', 'One', 'Apple', 'Park', 'Way', 'in', 'Cupertino', ',', 'California', ',', 'United', 'States', '.', 'In', '2023', ',', 'Apple', 'reported', 'revenue', 'of', 'over', '$', '394', 'billion', '.', 'The', 'iPhone', 'was', 'first', 'released', 'on', 'June', '29', ',', '2007', '.', 'Barack', 'Obama', 'was', 'the', '44th', 'President', 'of', 'the', 'United', 'States', 'from', '2009', 'to', '2017', '.', 'Google', 'was', 'founded', 'by', 'Larry', 'Page', 'and', 'Sergey', 'Brin', 'while', 'they', 'were', 'Ph.D.', 'students', 'at', 'Stanford', 'University', '.', 'Microsoft', 'Corporation', 'is', 'located', 'in', 'Redmond', ',', 'Washington', '.']\n",
      "[('Apple', 'NNP'), ('Inc.', 'NNP'), ('is', 'VBZ'), ('an', 'DT'), ('American', 'JJ'), ('multinational', 'NN'), ('technology', 'NN'), ('company', 'NN'), ('headquartered', 'VBD'), ('in', 'IN'), ('Cupertino', 'NNP'), (',', ','), ('California', 'NNP'), ('.', '.'), ('Tim', 'NNP'), ('Cook', 'NNP'), ('is', 'VBZ'), ('the', 'DT'), ('CEO', 'NNP'), ('of', 'IN'), ('Apple', 'NNP'), ('.', '.'), ('The', 'DT'), ('company', 'NN'), ('was', 'VBD'), ('founded', 'VBN'), ('by', 'IN'), ('Steve', 'NNP'), ('Jobs', 'NNP'), (',', ','), ('Steve', 'NNP'), ('Wozniak', 'NNP'), (',', ','), ('and', 'CC'), ('Ronald', 'NNP'), ('Wayne', 'NNP'), ('in', 'IN'), ('April', 'NNP'), ('1976', 'CD'), ('.', '.'), ('Apple', 'NNP'), (\"'s\", 'POS'), ('headquarters', 'NN'), ('is', 'VBZ'), ('located', 'VBN'), ('at', 'IN'), ('One', 'CD'), ('Apple', 'NNP'), ('Park', 'NNP'), ('Way', 'NNP'), ('in', 'IN'), ('Cupertino', 'NNP'), (',', ','), ('California', 'NNP'), (',', ','), ('United', 'NNP'), ('States', 'NNPS'), ('.', '.'), ('In', 'IN'), ('2023', 'CD'), (',', ','), ('Apple', 'NNP'), ('reported', 'VBD'), ('revenue', 'NN'), ('of', 'IN'), ('over', 'IN'), ('$', '$'), ('394', 'CD'), ('billion', 'CD'), ('.', '.'), ('The', 'DT'), ('iPhone', 'NN'), ('was', 'VBD'), ('first', 'RB'), ('released', 'VBN'), ('on', 'IN'), ('June', 'NNP'), ('29', 'CD'), (',', ','), ('2007', 'CD'), ('.', '.'), ('Barack', 'NNP'), ('Obama', 'NNP'), ('was', 'VBD'), ('the', 'DT'), ('44th', 'JJ'), ('President', 'NNP'), ('of', 'IN'), ('the', 'DT'), ('United', 'NNP'), ('States', 'NNPS'), ('from', 'IN'), ('2009', 'CD'), ('to', 'TO'), ('2017', 'CD'), ('.', '.'), ('Google', 'NNP'), ('was', 'VBD'), ('founded', 'VBN'), ('by', 'IN'), ('Larry', 'NNP'), ('Page', 'NNP'), ('and', 'CC'), ('Sergey', 'NNP'), ('Brin', 'NNP'), ('while', 'IN'), ('they', 'PRP'), ('were', 'VBD'), ('Ph.D.', 'NNP'), ('students', 'NNS'), ('at', 'IN'), ('Stanford', 'NNP'), ('University', 'NNP'), ('.', '.'), ('Microsoft', 'NNP'), ('Corporation', 'NNP'), ('is', 'VBZ'), ('located', 'VBN'), ('in', 'IN'), ('Redmond', 'NNP'), (',', ','), ('Washington', 'NNP'), ('.', '.')]\n",
      "None\n"
     ]
    }
   ],
   "source": [
    "import nltk as nltk\n",
    "words = nltk.word_tokenize(text)\n",
    "print(words)\n",
    "\n",
    "tags = nltk.pos_tag(words)\n",
    "print(tags)\n",
    "\n",
    "chunks = nltk.ne_chunk(tags).draw()\n"
   ]
  }
 ],
 "metadata": {
  "kernelspec": {
   "display_name": "base",
   "language": "python",
   "name": "python3"
  },
  "language_info": {
   "codemirror_mode": {
    "name": "ipython",
    "version": 3
   },
   "file_extension": ".py",
   "mimetype": "text/x-python",
   "name": "python",
   "nbconvert_exporter": "python",
   "pygments_lexer": "ipython3",
   "version": "3.12.7"
  }
 },
 "nbformat": 4,
 "nbformat_minor": 5
}
