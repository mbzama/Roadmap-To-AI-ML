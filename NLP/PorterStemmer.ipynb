{
 "cells": [
  {
   "cell_type": "code",
   "execution_count": null,
   "id": "37572fbc",
   "metadata": {},
   "outputs": [
    {
     "name": "stdout",
     "output_type": "stream",
     "text": [
      "sit -> sit\n",
      "sits -> sit\n",
      "sat -> sat\n",
      "sitting -> sit\n",
      "write -> write\n",
      "writes -> write\n",
      "wrote -> wrote\n",
      "writing -> write\n",
      "written -> written\n",
      "running -> run\n",
      "run -> run\n",
      "runs -> run\n",
      "ran -> ran\n",
      "easily -> easili\n",
      "fair -> fair\n",
      "fairness -> fair\n",
      "fairly -> fairli\n",
      "happily -> happili\n",
      "happier -> happier\n",
      "happiest -> happiest\n",
      "happiness -> happi\n"
     ]
    }
   ],
   "source": [
    "### PorterStremmer\n",
    "\"\"\"\n",
    "PorterStemmer is a popular stemming algorithm in Natural Language Processing (NLP) that reduces words to their root/base form by removing suffixes.\n",
    "\n",
    "Key Features:\n",
    "Purpose: Converts words to their stem by stripping common suffixes\n",
    "Algorithm: Based on Martin Porter's 1980 stemming algorithm\n",
    "Language: Primarily designed for English\n",
    "Approach: Rule-based suffix removal\n",
    "\"\"\"\n",
    "###\n",
    "\n",
    "words = [\n",
    "    \"sit\",\n",
    "    \"sits\",\n",
    "    \"sat\",\n",
    "    \"sitting\",\n",
    "    \"write\",\n",
    "    \"writes\",\n",
    "    \"wrote\",\n",
    "    \"writing\",\n",
    "    \"written\",\n",
    "    \"running\",\n",
    "    \"run\",\n",
    "    \"runs\", \n",
    "    \"ran\",\n",
    "    \"easily\",\n",
    "    \"fair\",\n",
    "    \"fairness\",\n",
    "    \"fairly\",\n",
    "    \"happily\",\n",
    "    \"happier\",\n",
    "    \"happiest\",\n",
    "    \"happiness\"]\n",
    "\n",
    "\n",
    "from nltk.stem import PorterStemmer\n",
    "\n",
    "stemming = PorterStemmer()\n",
    "\n",
    "for word in words:\n",
    "    print(f\"{word} -> {stemming.stem(word)}\")\n"
   ]
  }
 ],
 "metadata": {
  "kernelspec": {
   "display_name": "base",
   "language": "python",
   "name": "python3"
  },
  "language_info": {
   "codemirror_mode": {
    "name": "ipython",
    "version": 3
   },
   "file_extension": ".py",
   "mimetype": "text/x-python",
   "name": "python",
   "nbconvert_exporter": "python",
   "pygments_lexer": "ipython3",
   "version": "3.12.7"
  }
 },
 "nbformat": 4,
 "nbformat_minor": 5
}
