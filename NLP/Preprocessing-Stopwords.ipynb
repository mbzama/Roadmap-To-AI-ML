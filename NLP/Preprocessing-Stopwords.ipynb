{
 "cells": [
  {
   "cell_type": "code",
   "execution_count": null,
   "id": "9bdd5eef",
   "metadata": {},
   "outputs": [
    {
     "name": "stdout",
     "output_type": "stream",
     "text": [
      " I have three visions for India. In 3000 years of our history, people from all over the world have come and invaded us, captured our lands, conquered our minds. From Alexander onwards. The Greeks, the Turks, the Mughals, the Portuguese, the British, the French, the Dutch – all of them came and looted us, took over what was ours. Yet we have not done this to any other nation.\n",
      "We have not conquered anyone. We have not grabbed their land, their culture, their history, and tried to enforce our way of life on them. Why? Because we respect the freedom of others.\n",
      "That is why my first vision is that of freedom. I believe that India got its first vision of this in 1857, when we started the War of Independence. It is this freedom that we must protect and nurture and build on. If we are not free, no one will respect us.\n",
      "My second vision for India is development. For fifty years we have been a developing nation. It is time we saw ourselves as a developed nation.\n",
      "We are among the top 5 nations of the world in terms of GDP. We have 10 percent growth rate in most areas. Our poverty levels are falling. Our achievements are being globally recognized today. Yet we lack the self-confidence to see ourselves as a developed nation, self-reliant and self-assured. Isn't this incorrect?\n",
      "I have a third vision. India must stand up to the world. Because I believe that unless India stands up to the world, no one will respect us. Only strength respects strength.\n",
      "We must be strong not only as a military power but also as an economic power. Both must go hand-in-hand.\n",
      "\n",
      "Number of characters: 1562\n"
     ]
    },
    {
     "name": "stderr",
     "output_type": "stream",
     "text": [
      "[nltk_data] Downloading package stopwords to\n",
      "[nltk_data]     C:\\Users\\91988\\AppData\\Roaming\\nltk_data...\n",
      "[nltk_data]   Unzipping corpora\\stopwords.zip.\n"
     ]
    }
   ],
   "source": [
    "\n",
    "paragraph = \"\"\" I have three visions for India. In 3000 years of our history, people from all over the world have come and invaded us, captured our lands, conquered our minds. From Alexander onwards. The Greeks, the Turks, the Mughals, the Portuguese, the British, the French, the Dutch – all of them came and looted us, took over what was ours. Yet we have not done this to any other nation.\n",
    "We have not conquered anyone. We have not grabbed their land, their culture, their history, and tried to enforce our way of life on them. Why? Because we respect the freedom of others.\n",
    "That is why my first vision is that of freedom. I believe that India got its first vision of this in 1857, when we started the War of Independence. It is this freedom that we must protect and nurture and build on. If we are not free, no one will respect us.\n",
    "My second vision for India is development. For fifty years we have been a developing nation. It is time we saw ourselves as a developed nation.\n",
    "We are among the top 5 nations of the world in terms of GDP. We have 10 percent growth rate in most areas. Our poverty levels are falling. Our achievements are being globally recognized today. Yet we lack the self-confidence to see ourselves as a developed nation, self-reliant and self-assured. Isn't this incorrect?\n",
    "I have a third vision. India must stand up to the world. Because I believe that unless India stands up to the world, no one will respect us. Only strength respects strength.\n",
    "We must be strong not only as a military power but also as an economic power. Both must go hand-in-hand.\n",
    "\"\"\"\n",
    "print(paragraph)\n",
    "print(\"Number of characters:\", len(paragraph))"
   ]
  },
  {
   "cell_type": "code",
   "execution_count": null,
   "id": "89342753",
   "metadata": {},
   "outputs": [
    {
     "name": "stdout",
     "output_type": "stream",
     "text": [
      "Size of stop words: 198\n",
      "Stop words: {'have', \"she'd\", 'again', \"wasn't\", 'ourselves', \"you'd\", 'your', 'further', 'do', \"i've\", 'himself', 'own', \"weren't\", \"hasn't\", \"needn't\", \"that'll\", 'o', \"we'd\", 'which', 'its', 'of', 'you', \"i'd\", 'now', 'was', 'while', \"she's\", 'as', 'at', \"i'm\", 'not', 'needn', 'than', \"they'd\", 'themselves', 'out', 'me', 'about', 'who', 'up', 'shan', 'an', 'haven', 'be', 'after', 'couldn', 't', 'ma', 'on', 'into', \"it'd\", 'against', 'there', \"hadn't\", 'shouldn', 'by', 'more', \"haven't\", 'he', 'are', \"i'll\", \"it'll\", 'just', 'these', \"wouldn't\", \"it's\", 'aren', 'mustn', 'nor', 'has', 'with', 'here', 'between', 'during', 'once', 'each', 'her', 'whom', \"aren't\", 'where', \"she'll\", 'isn', \"shouldn't\", 'doing', 'in', 'only', 'were', 'if', \"isn't\", 'both', 'd', 'other', \"couldn't\", 'being', 'that', 'a', \"you'll\", 'for', 'it', 'what', 'hasn', 'this', \"mightn't\", 'our', 'same', \"he'll\", 'all', 'very', 'mightn', 'wouldn', 'don', 'them', 'having', \"shan't\", \"they'll\", 'hers', 'why', 'herself', 'their', 'am', 'but', 'his', 'no', \"they're\", 'she', \"didn't\", 'him', 'above', 'and', 'itself', 'off', 'does', 'we', 'should', 'll', 's', 'some', 'because', 'been', 'such', 'below', 'any', \"doesn't\", 'yourself', \"he's\", 're', 'my', 'y', 'did', \"they've\", 'to', 'so', 'when', 'before', \"he'd\", 'theirs', 'under', 'will', 'from', 'through', 'hadn', 'ours', \"we've\", \"you're\", 'yourselves', 'had', 'they', 'those', \"you've\", 'doesn', \"we're\", 'weren', \"should've\", \"mustn't\", 've', 'i', 'myself', 'down', 'yours', 'didn', 'the', 'how', 'until', 'ain', 'won', 'too', 'few', 'over', 'wasn', \"we'll\", 'can', 'm', \"won't\", 'then', 'is', 'most', 'or', \"don't\"}\n"
     ]
    }
   ],
   "source": [
    "from nltk.corpus import stopwords\n",
    "\n",
    "# Initialize the Porter Stemmer\n",
    "stemmer = PorterStemmer()\n",
    "stop_words = set(stopwords.words('english'))\n",
    "print(\"Size of stop words:\", len(stop_words))\n",
    "print(\"Stop words:\", stop_words)"
   ]
  },
  {
   "cell_type": "code",
   "execution_count": null,
   "id": "4620fca7",
   "metadata": {},
   "outputs": [
    {
     "name": "stdout",
     "output_type": "stream",
     "text": [
      "Number of sentences: 28\n",
      "Sentences: [' I have three visions for India.', 'In 3000 years of our history, people from all over the world have come and invaded us, captured our lands, conquered our minds.', 'From Alexander onwards.', 'The Greeks, the Turks, the Mughals, the Portuguese, the British, the French, the Dutch – all of them came and looted us, took over what was ours.', 'Yet we have not done this to any other nation.', 'We have not conquered anyone.', 'We have not grabbed their land, their culture, their history, and tried to enforce our way of life on them.', 'Why?', 'Because we respect the freedom of others.', 'That is why my first vision is that of freedom.', 'I believe that India got its first vision of this in 1857, when we started the War of Independence.', 'It is this freedom that we must protect and nurture and build on.', 'If we are not free, no one will respect us.', 'My second vision for India is development.', 'For fifty years we have been a developing nation.', 'It is time we saw ourselves as a developed nation.', 'We are among the top 5 nations of the world in terms of GDP.', 'We have 10 percent growth rate in most areas.', 'Our poverty levels are falling.', 'Our achievements are being globally recognized today.', 'Yet we lack the self-confidence to see ourselves as a developed nation, self-reliant and self-assured.', \"Isn't this incorrect?\", 'I have a third vision.', 'India must stand up to the world.', 'Because I believe that unless India stands up to the world, no one will respect us.', 'Only strength respects strength.', 'We must be strong not only as a military power but also as an economic power.', 'Both must go hand-in-hand.']\n",
      "Stemmed sentences: ['i three vision india .', 'in 3000 year histori , peopl world come invad us , captur land , conquer mind .', 'from alexand onward .', 'the greek , turk , mughal , portugues , british , french , dutch – came loot us , took .', 'yet done nation .', 'we conquer anyon .', 'we grab land , cultur , histori , tri enforc way life .', 'whi ?', 'becaus respect freedom other .', 'that first vision freedom .', 'i believ india got first vision 1857 , start war independ .', 'it freedom must protect nurtur build .', 'if free , one respect us .', 'my second vision india develop .', 'for fifti year develop nation .', 'it time saw develop nation .', 'we among top 5 nation world term gdp .', 'we 10 percent growth rate area .', 'our poverti level fall .', 'our achiev global recogn today .', 'yet lack self-confid see develop nation , self-reli self-assur .', \"is n't incorrect ?\", 'i third vision .', 'india must stand world .', 'becaus i believ unless india stand world , one respect us .', 'onli strength respect strength .', 'we must strong militari power also econom power .', 'both must go hand-in-hand .']\n",
      "Snowball stemmed sentences: ['three vision india .', '3000 year histori , peopl world come invad us , captur land , conquer mind .', 'alexand onward .', 'greek , turk , mughal , portugu , british , french , dutch – came loot us , took .', 'yet done nation .', 'conquer anyon .', 'grab land , cultur , histori , tri enforc way life .', 'whi ?', 'becaus respect freedom .', 'first vision freedom .', 'believ india got first vision 1857 , start war independ .', 'freedom must protect nurtur build .', 'free , one respect us .', 'second vision india develop .', 'fifti year develop nation .', 'time saw develop nation .', 'among top 5 nation world term gdp .', '10 percent growth rate area .', 'poverti level fall .', 'achiev global recogn today .', 'yet lack self-confid see develop nation , self-r self-assur .', \"n't incorrect ?\", 'third vision .', 'india must stand world .', 'becaus believ unless india stand world , one respect us .', 'on strength respect strength .', 'must strong militari power also econom power .', 'must go hand-in-hand .']\n"
     ]
    }
   ],
   "source": [
    "from nltk.stem import PorterStemmer\n",
    "stemmer = PorterStemmer()\n",
    "from nltk.tokenize import sent_tokenize, word_tokenize\n",
    "\n",
    "sentences = nltk.sent_tokenize(paragraph)\n",
    "print(\"Number of sentences:\", len(sent_tokenize(paragraph)))\n",
    "print(\"Sentences:\", sentences)\n",
    "\n",
    "for i in range(len(sentences)):\n",
    "    words = nltk.word_tokenize(sentences[i])\n",
    "    words = [stemmer.stem(word) for word in words if word not in stop_words]\n",
    "    sentences[i] = ' '.join(words)\n",
    "print(\"Stemmed sentences:\", sentences)\n"
   ]
  },
  {
   "cell_type": "code",
   "execution_count": null,
   "id": "a572911a",
   "metadata": {},
   "outputs": [
    {
     "name": "stdout",
     "output_type": "stream",
     "text": [
      "Snowball stemmed sentences: 28\n",
      "three vision india .\n",
      "3000 year histori , peopl world come invad u , captur land , conquer mind .\n",
      "alexand onward .\n",
      "greek , turk , mughal , portugu , british , french , dutch – came loot u , took .\n",
      "yet done nation .\n",
      "conquer anyon .\n",
      "grab land , cultur , histori , tri enforc way life .\n",
      "whi ?\n",
      "becaus respect freedom .\n",
      "first vision freedom .\n",
      "believ india got first vision 1857 , start war independ .\n",
      "freedom must protect nurtur build .\n",
      "free , one respect u .\n",
      "second vision india develop .\n",
      "fifti year develop nation .\n",
      "time saw develop nation .\n",
      "among top 5 nation world term gdp .\n",
      "10 percent growth rate area .\n",
      "poverti level fall .\n",
      "achiev global recogn today .\n",
      "yet lack self-confid see develop nation , self-r self-assur .\n",
      "n't incorrect ?\n",
      "third vision .\n",
      "india must stand world .\n",
      "becaus believ unless india stand world , one respect u .\n",
      "strength respect strength .\n",
      "must strong militari power also econom power .\n",
      "must go hand-in-hand .\n"
     ]
    }
   ],
   "source": [
    "## Snowball Stemmer\n",
    "from nltk import SnowballStemmer\n",
    "# Initialize the Snowball Stemmer\n",
    "snowball_stemmer = SnowballStemmer(\"english\")\n",
    "\n",
    "sentences = nltk.sent_tokenize(paragraph)\n",
    "print(\"Number of sentences:\", len(sent_tokenize(paragraph)))\n",
    "print(\"Sentences:\", sentences)\n",
    "\n",
    "# Stem the sentences using Snowball Stemmer\n",
    "for i in range(len(sentences)):\n",
    "    words = nltk.word_tokenize(sentences[i])\n",
    "    words = [snowball_stemmer.stem(word) for word in words if word not in stop_words]\n",
    "    sentences[i] = ' '.join(words)\n",
    "print(\"Snowball stemmed sentences:\", len(sentences))\n",
    "for sentence in sentences:\n",
    "    print(sentence)\n"
   ]
  },
  {
   "cell_type": "code",
   "execution_count": 30,
   "id": "ea03022b",
   "metadata": {},
   "outputs": [
    {
     "name": "stdout",
     "output_type": "stream",
     "text": [
      "Number of sentences: 28\n",
      "Sentences: [' I have three visions for India.', 'In 3000 years of our history, people from all over the world have come and invaded us, captured our lands, conquered our minds.', 'From Alexander onwards.', 'The Greeks, the Turks, the Mughals, the Portuguese, the British, the French, the Dutch – all of them came and looted us, took over what was ours.', 'Yet we have not done this to any other nation.', 'We have not conquered anyone.', 'We have not grabbed their land, their culture, their history, and tried to enforce our way of life on them.', 'Why?', 'Because we respect the freedom of others.', 'That is why my first vision is that of freedom.', 'I believe that India got its first vision of this in 1857, when we started the War of Independence.', 'It is this freedom that we must protect and nurture and build on.', 'If we are not free, no one will respect us.', 'My second vision for India is development.', 'For fifty years we have been a developing nation.', 'It is time we saw ourselves as a developed nation.', 'We are among the top 5 nations of the world in terms of GDP.', 'We have 10 percent growth rate in most areas.', 'Our poverty levels are falling.', 'Our achievements are being globally recognized today.', 'Yet we lack the self-confidence to see ourselves as a developed nation, self-reliant and self-assured.', \"Isn't this incorrect?\", 'I have a third vision.', 'India must stand up to the world.', 'Because I believe that unless India stands up to the world, no one will respect us.', 'Only strength respects strength.', 'We must be strong not only as a military power but also as an economic power.', 'Both must go hand-in-hand.']\n",
      "Lemmatized sentences: 28\n",
      "three visions india .\n",
      "3000 years history , people world come invade us , capture land , conquer mind .\n",
      "alexander onwards .\n",
      "greeks , turks , mughals , portuguese , british , french , dutch – come loot us , take .\n",
      "yet do nation .\n",
      "conquer anyone .\n",
      "grab land , culture , history , try enforce way life .\n",
      "?\n",
      "respect freedom others .\n",
      "first vision freedom .\n",
      "believe india get first vision 1857 , start war independence .\n",
      "freedom must protect nurture build .\n",
      "free , one respect us .\n",
      "second vision india development .\n",
      "fifty years develop nation .\n",
      "time saw develop nation .\n",
      "among top 5 nations world term gdp .\n",
      "10 percent growth rate areas .\n",
      "poverty level fall .\n",
      "achievements globally recognize today .\n",
      "yet lack self-confidence see develop nation , self-reliant self-assured .\n",
      "n't incorrect ?\n",
      "third vision .\n",
      "india must stand world .\n",
      "believe unless india stand world , one respect us .\n",
      "strength respect strength .\n",
      "must strong military power also economic power .\n",
      "must go hand-in-hand .\n"
     ]
    }
   ],
   "source": [
    "## Lemmatization\n",
    "from nltk.stem import WordNetLemmatizer\n",
    "# Initialize the WordNet Lemmatizer\n",
    "lemmatizer = WordNetLemmatizer()\n",
    "\n",
    "sentences = nltk.sent_tokenize(paragraph)\n",
    "print(\"Number of sentences:\", len(sent_tokenize(paragraph)))\n",
    "print(\"Sentences:\", sentences)\n",
    "# Lemmatize the sentences\n",
    "for i in range(len(sentences)):\n",
    "    sentences[i] = sentences[i].lower()  # Convert to lowercase\n",
    "    words = nltk.word_tokenize(sentences[i])\n",
    "    words = [lemmatizer.lemmatize(word.lower(), pos='v') for word in words if word not in stop_words]\n",
    "    sentences[i] = ' '.join(words)\n",
    "print(\"Lemmatized sentences:\", len(sentences))\n",
    "for sentence in sentences:\n",
    "    print(sentence)"
   ]
  },
  {
   "cell_type": "code",
   "execution_count": null,
   "id": "093596e5",
   "metadata": {},
   "outputs": [],
   "source": []
  }
 ],
 "metadata": {
  "kernelspec": {
   "display_name": "base",
   "language": "python",
   "name": "python3"
  },
  "language_info": {
   "codemirror_mode": {
    "name": "ipython",
    "version": 3
   },
   "file_extension": ".py",
   "mimetype": "text/x-python",
   "name": "python",
   "nbconvert_exporter": "python",
   "pygments_lexer": "ipython3",
   "version": "3.12.7"
  }
 },
 "nbformat": 4,
 "nbformat_minor": 5
}
