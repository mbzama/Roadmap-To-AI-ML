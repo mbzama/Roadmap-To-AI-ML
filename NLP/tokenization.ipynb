{
 "cells": [
  {
   "cell_type": "code",
   "execution_count": 7,
   "id": "3f873845",
   "metadata": {},
   "outputs": [
    {
     "name": "stdout",
     "output_type": "stream",
     "text": [
      "Requirement already satisfied: nltk in c:\\users\\91988\\anaconda3\\lib\\site-packages (3.9.1)\n",
      "Requirement already satisfied: click in c:\\users\\91988\\anaconda3\\lib\\site-packages (from nltk) (8.1.7)\n",
      "Requirement already satisfied: joblib in c:\\users\\91988\\anaconda3\\lib\\site-packages (from nltk) (1.4.2)\n",
      "Requirement already satisfied: regex>=2021.8.3 in c:\\users\\91988\\anaconda3\\lib\\site-packages (from nltk) (2024.9.11)\n",
      "Requirement already satisfied: tqdm in c:\\users\\91988\\anaconda3\\lib\\site-packages (from nltk) (4.66.5)\n",
      "Requirement already satisfied: colorama in c:\\users\\91988\\anaconda3\\lib\\site-packages (from click->nltk) (0.4.6)\n"
     ]
    }
   ],
   "source": [
    "!pip install nltk"
   ]
  },
  {
   "cell_type": "code",
   "execution_count": 4,
   "id": "46271892",
   "metadata": {},
   "outputs": [
    {
     "name": "stdout",
     "output_type": "stream",
     "text": [
      "hello welcome, to zama's NLP tutorial.\n",
      "Please run these examples! to learn NLP basics.\n",
      "\n"
     ]
    }
   ],
   "source": [
    "corpus = \"\"\"hello welcome, to zama's NLP tutorial.\n",
    "Please run these examples! to learn NLP basics.\n",
    "\"\"\"\n",
    "print(corpus)"
   ]
  },
  {
   "cell_type": "code",
   "execution_count": 16,
   "id": "eddec60c",
   "metadata": {},
   "outputs": [
    {
     "name": "stdout",
     "output_type": "stream",
     "text": [
      "hello welcome, to zama's NLP tutorial.\n",
      "Please run these examples!\n",
      "to learn NLP basics.\n"
     ]
    },
    {
     "name": "stderr",
     "output_type": "stream",
     "text": [
      "[nltk_data] Downloading package punkt_tab to\n",
      "[nltk_data]     C:\\Users\\91988\\AppData\\Roaming\\nltk_data...\n",
      "[nltk_data]   Package punkt_tab is already up-to-date!\n"
     ]
    }
   ],
   "source": [
    "## paragraph --> sentence \n",
    "import nltk\n",
    "nltk.download('punkt_tab')\n",
    "\n",
    "from nltk.tokenize import sent_tokenize\n",
    "sentences = sent_tokenize(corpus)\n",
    "\n",
    "for sentence in sentences:\n",
    "    print(sentence) \n"
   ]
  },
  {
   "cell_type": "code",
   "execution_count": null,
   "id": "064e7a2d",
   "metadata": {},
   "outputs": [
    {
     "name": "stdout",
     "output_type": "stream",
     "text": [
      "['hello', 'welcome', ',', 'to', 'zama', \"'s\", 'NLP', 'tutorial', '.', 'Please', 'run', 'these', 'examples', '!', 'to', 'learn', 'NLP', 'basics', '.']\n",
      "Number of words: 19\n",
      "hello\n",
      "welcome\n",
      ",\n",
      "to\n",
      "zama\n",
      "'s\n",
      "NLP\n",
      "tutorial\n",
      ".\n",
      "Please\n",
      "run\n",
      "these\n",
      "examples\n",
      "!\n",
      "to\n",
      "learn\n",
      "NLP\n",
      "basics\n",
      ".\n"
     ]
    }
   ],
   "source": [
    "## Paragraph --> words\n",
    "from nltk.tokenize import word_tokenize\n",
    "words = word_tokenize(corpus)\n",
    "print(words)\n",
    "\n",
    "print(\"Number of words:\", len(words))\n",
    "for word in words:\n",
    "    print(word)\n"
   ]
  },
  {
   "cell_type": "code",
   "execution_count": 21,
   "id": "3d6fc6d5",
   "metadata": {},
   "outputs": [
    {
     "name": "stdout",
     "output_type": "stream",
     "text": [
      "Words in sentences: ['hello', 'welcome', ',', 'to', 'zama', \"'s\", 'NLP', 'tutorial', '.']\n",
      "Number of words in sentences: 9\n",
      "hello\n",
      "welcome\n",
      ",\n",
      "to\n",
      "zama\n",
      "'s\n",
      "NLP\n",
      "tutorial\n",
      ".\n",
      "Words in sentences: ['Please', 'run', 'these', 'examples', '!']\n",
      "Number of words in sentences: 5\n",
      "Please\n",
      "run\n",
      "these\n",
      "examples\n",
      "!\n",
      "Words in sentences: ['to', 'learn', 'NLP', 'basics', '.']\n",
      "Number of words in sentences: 5\n",
      "to\n",
      "learn\n",
      "NLP\n",
      "basics\n",
      ".\n"
     ]
    }
   ],
   "source": [
    "## Sentence --> words\n",
    "for sentence in sentences:\n",
    "    words = word_tokenize(sentence)    \n",
    "    print(\"Words in sentences:\", words)\n",
    "    print(\"Number of words in sentences:\", len(words))\n",
    "    for word in words:\n",
    "        print(word)\n"
   ]
  },
  {
   "cell_type": "code",
   "execution_count": 23,
   "id": "feeb1e51",
   "metadata": {},
   "outputs": [
    {
     "name": "stdout",
     "output_type": "stream",
     "text": [
      "Treebank Tokenizer Words: ['hello', 'welcome', ',', 'to', 'zama', \"'s\", 'NLP', 'tutorial.', 'Please', 'run', 'these', 'examples', '!', 'to', 'learn', 'NLP', 'basics', '.']\n",
      "Number of Treebank words: 18\n",
      "hello\n",
      "welcome\n",
      ",\n",
      "to\n",
      "zama\n",
      "'s\n",
      "NLP\n",
      "tutorial.\n",
      "Please\n",
      "run\n",
      "these\n",
      "examples\n",
      "!\n",
      "to\n",
      "learn\n",
      "NLP\n",
      "basics\n",
      ".\n"
     ]
    }
   ],
   "source": [
    "## TreeBank tokenizer\n",
    "from nltk.tokenize import TreebankWordTokenizer\n",
    "treebank_tokenizer = TreebankWordTokenizer()\n",
    "treebank_words = treebank_tokenizer.tokenize(corpus)\n",
    "print(\"Treebank Tokenizer Words:\", treebank_words)\n",
    "print(\"Number of Treebank words:\", len(treebank_words))\n",
    "\n",
    "for word in treebank_words:\n",
    "    print(word)\n",
    "## Word tokenization with regular expressions"
   ]
  },
  {
   "cell_type": "code",
   "execution_count": null,
   "id": "dd10d959",
   "metadata": {},
   "outputs": [],
   "source": []
  }
 ],
 "metadata": {
  "kernelspec": {
   "display_name": "base",
   "language": "python",
   "name": "python3"
  },
  "language_info": {
   "codemirror_mode": {
    "name": "ipython",
    "version": 3
   },
   "file_extension": ".py",
   "mimetype": "text/x-python",
   "name": "python",
   "nbconvert_exporter": "python",
   "pygments_lexer": "ipython3",
   "version": "3.12.7"
  }
 },
 "nbformat": 4,
 "nbformat_minor": 5
}
