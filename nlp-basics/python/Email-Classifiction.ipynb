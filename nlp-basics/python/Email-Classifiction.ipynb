{
 "cells": [
  {
   "cell_type": "code",
   "execution_count": 28,
   "id": "9d77d573",
   "metadata": {},
   "outputs": [
    {
     "name": "stdout",
     "output_type": "stream",
     "text": [
      "Number of lines in the dataset: 2001\n",
      "First 5 rows of the dataset:\n",
      "                                                                                          sub  \\\n",
      "subject                                                                                  body   \n",
      "Welcome to DataVault                        Team Update - July 12, 2025\\n\\nHi everyone,\\n\\...   \n",
      "CLICK HERE to claim your $50000 cash prize  Investment Opportunity - GUARANTEED returns!\\n...   \n",
      "Your order #ORD33665 has been shipped       Dear Emily,\\n\\nYour order #ORD33665 has been p...   \n",
      "Invoice #INV9661 from DataSystems           Team Update - July 07, 2025\\n\\nHi everyone,\\n\\...   \n",
      "\n",
      "                                             body  \n",
      "subject                                     label  \n",
      "Welcome to DataVault                          ham  \n",
      "CLICK HERE to claim your $50000 cash prize   spam  \n",
      "Your order #ORD33665 has been shipped         ham  \n",
      "Invoice #INV9661 from DataSystems             ham  \n",
      "Last 5 rows of the dataset:\n",
      "                                                                                           sub  \\\n",
      "WINNER: You've been selected for $50000 USD  Dear Lucky Winner,\\n            \\nCONGRATULATI...   \n",
      "Invoice #INV7900 from DataSystems            Invoice #INV7900\\n\\nDear David,\\n\\nPlease find...   \n",
      "Appointment confirmation                     Welcome to WebBuilder!\\n\\nHi Emily,\\n\\nThank y...   \n",
      "Invoice #INV1037 from InnovateLab            Dear Chris,\\n\\nYour order #ORD91403 has been p...   \n",
      "🎉 CONGRATULATIONS! You've WON $100000!       URGENT NOTICE:\\n            \\nYour bank accoun...   \n",
      "\n",
      "                                             body  \n",
      "WINNER: You've been selected for $50000 USD  spam  \n",
      "Invoice #INV7900 from DataSystems             ham  \n",
      "Appointment confirmation                      ham  \n",
      "Invoice #INV1037 from InnovateLab             ham  \n",
      "🎉 CONGRATULATIONS! You've WON $100000!       spam  \n"
     ]
    }
   ],
   "source": [
    "import pandas as pd\n",
    "import os\n",
    "\n",
    "# Read the email dataset CSV file\n",
    "file_path = 'email_spam_dataset.csv'\n",
    "\n",
    "if os.path.exists(file_path):\n",
    "    # Read the CSV file\n",
    "    messages = pd.read_csv(file_path, sep=\",\", names=[\"subject\", \"body\", \"label\"], encoding=\"utf-8\")\n",
    "    \n",
    "    # Print number of lines (rows)\n",
    "    print(f\"Number of lines in the dataset: {len(df)}\")\n",
    "    # Print the first 5 rows of the dataset\n",
    "    print(\"First 5 rows of the dataset:\")   \n",
    "    print(df.head())\n",
    "    # Print the last 5 rows of the dataset  \n",
    "    print(\"Last 5 rows of the dataset:\")\n",
    "    print(df.tail())\n",
    "else:\n",
    "    print(f\"File '{file_path}' not found. Please make sure the email dataset has been generated.\")"
   ]
  },
  {
   "cell_type": "code",
   "execution_count": null,
   "id": "70474758",
   "metadata": {},
   "outputs": [],
   "source": [
    "# Data cleaning and preprocessing\n",
    "import re\n",
    "import nltk\n",
    "from nltk.corpus import stopwords\n",
    "from nltk.stem.porter import PorterStemmer\n",
    "\n",
    "porter = PorterStemmer()\n",
    "\n",
    "corpus = []\n",
    "\n",
    "for i in range(0, len(messages)):\n",
    "    #print( messages['body'][i])\n",
    "    review = re.sub('[^a-zA-Z]', ' ', messages['body'][i])\n",
    "    review = review.lower()\n",
    "    review = review.split()\n",
    "    review = [porter.stem(word) for word in review if not word in stopwords.words('english')]\n",
    "    review = ' '.join(review)\n",
    "    corpus.append(review)\n",
    "\n",
    "print(\"Corpus Size: \", len(corpus)) \n",
    "print(\"First 5 entries in the corpus:\")\n",
    "print(corpus[:5])"
   ]
  }
 ],
 "metadata": {
  "kernelspec": {
   "display_name": "base",
   "language": "python",
   "name": "python3"
  },
  "language_info": {
   "codemirror_mode": {
    "name": "ipython",
    "version": 3
   },
   "file_extension": ".py",
   "mimetype": "text/x-python",
   "name": "python",
   "nbconvert_exporter": "python",
   "pygments_lexer": "ipython3",
   "version": "3.12.7"
  }
 },
 "nbformat": 4,
 "nbformat_minor": 5
}
